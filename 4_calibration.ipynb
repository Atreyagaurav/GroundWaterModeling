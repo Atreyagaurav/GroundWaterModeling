{
 "cells": [
  {
   "cell_type": "markdown",
   "id": "5c16242b",
   "metadata": {},
   "source": [
    "# Table of Contents\n",
    "\n",
    "1.  [Introduction](#org03da1c8)\n",
    "2.  [Codes](#org821ef87)\n",
    "    1.  [Importing libraries](#org00f7d8f)\n",
    "    2.  [Simulation Parameters](#org18bc7e7)\n",
    "    3.  [Calibration Parameters](#orgc4d3728)\n",
    "    4.  [Utility Functions](#orgea9f128)\n",
    "    5.  [Calibration Data](#org36af888)\n",
    "    6.  [Calibration Dependent Simulation Parameters](#org8a09b9e)\n",
    "    7.  [Stress Period Functions](#org992eff2)\n",
    "    8.  [Flopy Model](#orge4d7576)\n",
    "    9.  [Simulation Post Processing](#orgbd136c6)\n",
    "    10. [Plots](#org5a8dad9)\n",
    "3.  [Summary of Calibration Trials](#org57ff250)\n",
    "4.  [Export to vtk format](#org7cabdb7)\n"
   ]
  },
  {
   "cell_type": "markdown",
   "id": "1d24130e",
   "metadata": {},
   "source": [
    "<a id=\"org03da1c8\"></a>\n",
    "\n",
    "# Introduction\n",
    "\n",
    "Planning to install a new 250 GPM well at their main facility, a small manufacturer hires you to determine whether their proposed well (see above) will cause any problems with the stream and an existing well and whether the new well or the existing well would likely become contaminated by a nearby TCE plume as a result of the operation of the new well. The new well will be operated continuously.\n",
    "\n",
    "Geologic data indicate a water table aquifer with bottom elevation of –100ft in this area. The aquifer abruptly pinches out at west and southern boundaries. Ground surface elevation in the area is approximately 3m. A 1st-order stream (average depth=1m) flowing through the area empties into the deep lake (water surface elevation 0.00m) in the NE corner of the map. The stream is predominantly fed by groundwater, meaning the streamflow is essentially baseflow.\n",
    "\n",
    "Although there has been no study of actual recharge rates to this aquifer, long term average recharge from precipitation in this part of the state varies between 10 and 18 inches/yr depending on the location of the aquifer.\n",
    "\n",
    "Only one well in the vicinity currently pumps (200 GPM) from this aquifer. This well has been operating continuously for the past 15 years.\n",
    "\n",
    "This past August, in anticipation of the need to understand this aquifer better, 45 piezometers were installed to determine the water table variation throughout the area. In addition, stream water levels and stream discharges were measured. Average stream discharge measured at a cross section approaching the lake was 1486.65 m³/d (272.73 GPM). The streambed leakance (hydraulic conductivity per unit thickness of the streambed) is unknown and must be calibrated. Annual average water table elevations and stream water levels are provided.\n"
   ]
  },
  {
   "cell_type": "markdown",
   "id": "493a2858",
   "metadata": {},
   "source": [
    "<a id=\"org821ef87\"></a>\n",
    "\n",
    "# Codes"
   ]
  },
  {
   "cell_type": "markdown",
   "id": "218ef337",
   "metadata": {},
   "source": [
    "<a id=\"org00f7d8f\"></a>\n",
    "\n",
    "## Importing libraries\n",
    "\n",
    "Same as in other exercises few python libraries are loaded, this one here has many libraries as we're using more and more advanced features.\n",
    "\n",
    "`matplotlib.gridspec` is for plotting multiple plots in a grid. `pandas` is for loading river head values from csv file, and `scipy.interpolate` is being used to interpolate the head values from river nodes into each cell."
   ]
  },
  {
   "cell_type": "code",
   "execution_count": 1,
   "id": "23016b78",
   "metadata": {},
   "outputs": [],
   "source": [
    "import math\n",
    "import flopy\n",
    "import matplotlib.pyplot as plt\n",
    "import matplotlib.gridspec as gridspec\n",
    "import numpy as np\n",
    "import pandas as pd\n",
    "from scipy.interpolate import interp2d\n",
    "\n",
    "from shapely import geometry"
   ]
  },
  {
   "cell_type": "markdown",
   "id": "b54f93fd",
   "metadata": {},
   "source": [
    "This function here makes a `shapely.geometry` shape from csv file. We'll later use this to load lake and river from their co-ordinates."
   ]
  },
  {
   "cell_type": "code",
   "execution_count": 2,
   "id": "6f576829",
   "metadata": {},
   "outputs": [],
   "source": [
    "def csv_2_shape(csvfile, shape=geometry.Polygon):\n",
    "    df = pd.read_csv(csvfile)\n",
    "    return shape([\n",
    "        (row.x, row.y) for i, row in df.iterrows()])"
   ]
  },
  {
   "cell_type": "markdown",
   "id": "68f78d70",
   "metadata": {},
   "source": [
    "<a id=\"org18bc7e7\"></a>\n",
    "\n",
    "## Simulation Parameters\n",
    "\n",
    "Simulation grid specifications."
   ]
  },
  {
   "cell_type": "code",
   "execution_count": 3,
   "id": "9cc3f053",
   "metadata": {},
   "outputs": [],
   "source": [
    "X0 = 0\n",
    "XN = 3000\n",
    "NC = 100\n",
    "ΔX = XN/NC\n",
    "\n",
    "Y0 = 0\n",
    "YN = 2230\n",
    "NR = 75\n",
    "ΔY = YN/NR\n",
    "\n",
    "Top = 3                         # m\n",
    "Height = 100*0.3048\n",
    "Bottom = Top-Height"
   ]
  },
  {
   "cell_type": "markdown",
   "id": "76dd6c61",
   "metadata": {},
   "source": [
    "\n",
    "There is only one geolayer for this simulation.\n",
    "\n"
   ]
  },
  {
   "cell_type": "code",
   "execution_count": 4,
   "id": "5d2bec05",
   "metadata": {},
   "outputs": [],
   "source": [
    "geolyr_thickness = [Height]\n",
    "geolyr_subdivisions = [50]"
   ]
  },
  {
   "cell_type": "markdown",
   "id": "8b9f9024",
   "metadata": {},
   "source": [
    "\n",
    "This parameters is used to determine whether to include second well in the simulation or not. For now it’s false for calibration purposes."
   ]
  },
  {
   "cell_type": "code",
   "execution_count": 5,
   "id": "24ae36e8",
   "metadata": {},
   "outputs": [],
   "source": [
    "SECOND_WELL_ON = False"
   ]
  },
  {
   "cell_type": "markdown",
   "id": "1f64ccc5",
   "metadata": {},
   "source": [
    "Let’s define the grid points for later use."
   ]
  },
  {
   "cell_type": "code",
   "execution_count": 6,
   "id": "78a566e0",
   "metadata": {},
   "outputs": [],
   "source": [
    "xy_grid_points = np.mgrid[X0:XN:ΔX, YN:Y0:-ΔY].reshape(2, -1).T\n",
    "x_grids = np.linspace(X0, XN+1, NC)"
   ]
  },
  {
   "cell_type": "markdown",
   "id": "e4ff4d87",
   "metadata": {},
   "source": [
    "Domain and lake geometry definitions along with lake parameters."
   ]
  },
  {
   "cell_type": "code",
   "execution_count": 7,
   "id": "2c2974ec",
   "metadata": {},
   "outputs": [],
   "source": [
    "domain = geometry.box(X0, Y0, XN, YN)\n",
    "lake = csv_2_shape('./data/4_lake.csv', geometry.Polygon)\n",
    "lake_top = 0\n",
    "lake_height = Height\n",
    "lake_bottom = lake_top - lake_height\n",
    "lake_bed_thickness = 1                               # m\n",
    "lake_conductance = 5 #* ΔX * ΔY / lake_bed_thickness  # leakance to conductance how?"
   ]
  },
  {
   "cell_type": "markdown",
   "id": "55b36634",
   "metadata": {},
   "source": [
    "Here we'll define river geometry from the csv, and we'll also use the csv data to define a function `get_river_head` which we can pass `(x, y)` co-ordinate to and get the head value interpolated from river nodes."
   ]
  },
  {
   "cell_type": "code",
   "execution_count": 8,
   "id": "b7af3c45",
   "metadata": {},
   "outputs": [],
   "source": [
    "river_df = pd.read_csv('./data/4_river.csv')\n",
    "river = geometry.LineString([\n",
    "        (row.x, row.y) for i, row in river_df.iterrows()])\n",
    "get_river_head = interp2d(river_df.x,\n",
    "                           river_df.y,\n",
    "                           river_df.h,\n",
    "                           kind='linear')"
   ]
  },
  {
   "cell_type": "markdown",
   "id": "1209209a",
   "metadata": {},
   "source": [
    "Now other parameters for the river."
   ]
  },
  {
   "cell_type": "code",
   "execution_count": 9,
   "id": "b9bcd8be",
   "metadata": {},
   "outputs": [],
   "source": [
    "river_top = 0\n",
    "river_height = Height\n",
    "river_bottom = river_top - river_height\n",
    "river_width = 1\n",
    "riverbed_thickness = 1"
   ]
  },
  {
   "cell_type": "markdown",
   "id": "36bab7b2",
   "metadata": {},
   "source": [
    "Well definitions."
   ]
  },
  {
   "cell_type": "code",
   "execution_count": 10,
   "id": "b26cc99b",
   "metadata": {},
   "outputs": [],
   "source": [
    "well1 = geometry.Point((2373.8920225624497, 1438.255033557047))\n",
    "well1_top = 0\n",
    "well1_bottom = Bottom\n",
    "well1_rate = -200 * 5.451  # GPM → m³/day\n",
    "\n",
    "well2 = geometry.Point((1871.071716357776, 1030.7494407158838))\n",
    "well2_top = 0\n",
    "well2_bottom = Bottom\n",
    "well2_rate = -250 * 5.451  # GPM → m³/day"
   ]
  },
  {
   "cell_type": "markdown",
   "id": "c4756640",
   "metadata": {},
   "source": [
    "<a id=\"orgc4d3728\"></a>\n",
    "\n",
    "## Calibration Parameters\n",
    "\n",
    "Here the parameters defined can be changed to get different results and these parameters are unknown. The current values are obtained after running batch process with a ton of parameters and selecting the best one."
   ]
  },
  {
   "cell_type": "code",
   "execution_count": 11,
   "id": "86fe9767",
   "metadata": {},
   "outputs": [],
   "source": [
    "Kh = 4.48\n",
    "riv_cond = .01\n",
    "# between 10-18 inch/year\n",
    "Rch = 18                        # inch/year\n",
    "rech = Rch * 0.0254 / 365                  # m/day"
   ]
  },
  {
   "cell_type": "markdown",
   "id": "cc6dc35f",
   "metadata": {},
   "source": [
    "<a id=\"orgea9f128\"></a>\n",
    "\n",
    "## Utility Functions\n",
    "\n",
    "This function here can be used to find the conductance of river cell, it'll use the intersection length of river with the cell to calculate the equivalent conductance. For now, river width and riverbed thickness are put in arbitrarily, but since we're calibrating it anyway, it should be fine."
   ]
  },
  {
   "cell_type": "code",
   "execution_count": 12,
   "id": "7b7739b0",
   "metadata": {},
   "outputs": [],
   "source": [
    "def get_riv_conductance(intersect_length):\n",
    "    \"Give conductance based on river intersection on grid.\"\n",
    "    return (riv_cond *\n",
    "            intersect_length * river_width / (ΔX*ΔY)  # factor of area covered\n",
    "            / riverbed_thickness)"
   ]
  },
  {
   "cell_type": "markdown",
   "id": "459f82b6",
   "metadata": {},
   "source": [
    "Now the same function to get the layers as in the previous models."
   ]
  },
  {
   "cell_type": "code",
   "execution_count": 13,
   "id": "568a668b",
   "metadata": {},
   "outputs": [],
   "source": [
    "def get_layers(top=Top, bottom=Bottom):\n",
    "    all_layers = [(i, b) for i, b in enumerate(bot) if b < top]\n",
    "    b = top\n",
    "    for i, b in all_layers:\n",
    "        if b > bottom:\n",
    "            yield i, top, b\n",
    "        else:\n",
    "            break\n",
    "        top = b\n",
    "    if b <= bottom:\n",
    "        yield i, top, bottom"
   ]
  },
  {
   "cell_type": "markdown",
   "id": "9c56c5e5",
   "metadata": {},
   "source": [
    "Similarly, a function to get the grid points. This one is a little more complex than the ones in the previous ones as we needed to calculate the conductance for each grid cell so it now returns the intersection length for linestring and intersection area for polygons.\n",
    "\n",
    "You can provide a shape and it'll give you the grid points, shape can only be `geometry.Point`, `geometry.Polygon` or `geometry.LineString`."
   ]
  },
  {
   "cell_type": "code",
   "execution_count": 14,
   "id": "c7e1d73d",
   "metadata": {},
   "outputs": [],
   "source": [
    "def get_grid_points(shape, /, xy_grid_points, layers=None):\n",
    "    if not layers:\n",
    "        layers = [0]\n",
    "    else:\n",
    "        layers = list(layers)\n",
    "\n",
    "    grid_pts = enumerate(map(geometry.Point, xy_grid_points))\n",
    "    grid_boxes = enumerate(map(lambda x: geometry.box(\n",
    "            x[0]-ΔX/2, x[1]-ΔY/2, x[0]+ΔX/2, x[1]+ΔY/2),\n",
    "                            xy_grid_points))\n",
    "\n",
    "    if isinstance(shape, geometry.Polygon):\n",
    "        points = filter(lambda gp: shape.contains(gp[1]), grid_boxes)\n",
    "        points = map(lambda gp: (gp[0], shape.intersection(gp[1]).area), points)\n",
    "    elif isinstance(shape, geometry.Point):\n",
    "        nearest = min(grid_pts, key=lambda gp: shape.distance(gp[1]))\n",
    "        points = [(nearest[0], nearest[1].area)]\n",
    "    elif isinstance(shape, geometry.LineString):\n",
    "        points = filter(lambda gp: shape.intersects(gp[1]), grid_boxes)\n",
    "        points = map(lambda gp: (gp[0], shape.intersection(gp[1]).length), points)\n",
    "\n",
    "    for i, insec in points:\n",
    "        col = i // (NR)\n",
    "        row = i % (NR)\n",
    "        for j in layers:\n",
    "            yield (j, row, col), xy_grid_points[i], insec"
   ]
  },
  {
   "cell_type": "markdown",
   "id": "c8a4379c",
   "metadata": {},
   "source": [
    "<a id=\"org36af888\"></a>\n",
    "\n",
    "## Calibration Data\n",
    "\n",
    "We'll also load the calibration data for the observation wells, we'll get the grid points for all those wells so we can use that to extract the model heads at those wells later."
   ]
  },
  {
   "cell_type": "code",
   "execution_count": 15,
   "id": "61d35cee",
   "metadata": {},
   "outputs": [],
   "source": [
    "calib_wells = pd.read_csv(\"./data/4_wells.csv\")\n",
    "calib_wells_grid_pts = list(calib_wells.apply(\n",
    "                lambda row: next(get_grid_points(\n",
    "                    geometry.Point(row.x, row.y),\n",
    "                    xy_grid_points=xy_grid_points))[0], axis=1))"
   ]
  },
  {
   "cell_type": "markdown",
   "id": "aafc3529",
   "metadata": {},
   "source": [
    "Here we can see how our calibration data is:"
   ]
  },
  {
   "cell_type": "code",
   "execution_count": 16,
   "id": "889adb85",
   "metadata": {},
   "outputs": [
    {
     "data": {
      "text/html": [
       "<div>\n",
       "<style scoped>\n",
       "    .dataframe tbody tr th:only-of-type {\n",
       "        vertical-align: middle;\n",
       "    }\n",
       "\n",
       "    .dataframe tbody tr th {\n",
       "        vertical-align: top;\n",
       "    }\n",
       "\n",
       "    .dataframe thead th {\n",
       "        text-align: right;\n",
       "    }\n",
       "</style>\n",
       "<table border=\"1\" class=\"dataframe\">\n",
       "  <thead>\n",
       "    <tr style=\"text-align: right;\">\n",
       "      <th></th>\n",
       "      <th>well</th>\n",
       "      <th>x</th>\n",
       "      <th>y</th>\n",
       "      <th>h</th>\n",
       "      <th>weight</th>\n",
       "    </tr>\n",
       "  </thead>\n",
       "  <tbody>\n",
       "    <tr>\n",
       "      <th>0</th>\n",
       "      <td>1</td>\n",
       "      <td>1138.014528</td>\n",
       "      <td>1776.654749</td>\n",
       "      <td>12.10</td>\n",
       "      <td>1</td>\n",
       "    </tr>\n",
       "    <tr>\n",
       "      <th>1</th>\n",
       "      <td>2</td>\n",
       "      <td>571.428571</td>\n",
       "      <td>766.212291</td>\n",
       "      <td>14.95</td>\n",
       "      <td>1</td>\n",
       "    </tr>\n",
       "    <tr>\n",
       "      <th>2</th>\n",
       "      <td>3</td>\n",
       "      <td>479.418886</td>\n",
       "      <td>1896.375419</td>\n",
       "      <td>14.79</td>\n",
       "      <td>1</td>\n",
       "    </tr>\n",
       "    <tr>\n",
       "      <th>3</th>\n",
       "      <td>4</td>\n",
       "      <td>1452.784504</td>\n",
       "      <td>680.013408</td>\n",
       "      <td>12.14</td>\n",
       "      <td>1</td>\n",
       "    </tr>\n",
       "    <tr>\n",
       "      <th>4</th>\n",
       "      <td>5</td>\n",
       "      <td>479.418886</td>\n",
       "      <td>713.535196</td>\n",
       "      <td>15.13</td>\n",
       "      <td>1</td>\n",
       "    </tr>\n",
       "  </tbody>\n",
       "</table>\n",
       "</div>"
      ],
      "text/plain": [
       "   well            x            y      h   weight\n",
       "0     1  1138.014528  1776.654749  12.10        1\n",
       "1     2   571.428571   766.212291  14.95        1\n",
       "2     3   479.418886  1896.375419  14.79        1\n",
       "3     4  1452.784504   680.013408  12.14        1\n",
       "4     5   479.418886   713.535196  15.13        1"
      ]
     },
     "execution_count": 16,
     "metadata": {},
     "output_type": "execute_result"
    }
   ],
   "source": [
    "calib_wells.head()"
   ]
  },
  {
   "cell_type": "markdown",
   "id": "c3457278",
   "metadata": {},
   "source": [
    "And the grid points for the well that are obtained. The layer is not useful as we’ll look at the watertable data which is 2 dimensional."
   ]
  },
  {
   "cell_type": "code",
   "execution_count": 17,
   "id": "c04b181e",
   "metadata": {},
   "outputs": [
    {
     "data": {
      "text/plain": [
       "[(0, 15, 38), (0, 49, 19), (0, 11, 16), (0, 52, 48), (0, 51, 16)]"
      ]
     },
     "execution_count": 17,
     "metadata": {},
     "output_type": "execute_result"
    }
   ],
   "source": [
    "calib_wells_grid_pts[:5]"
   ]
  },
  {
   "cell_type": "markdown",
   "id": "152ebf3c",
   "metadata": {},
   "source": [
    "<a id=\"org8a09b9e\"></a>\n",
    "\n",
    "## Calibration Dependent Simulation Parameters\n",
    "\n",
    "Using the geolayer information we'll make the computational layers and use same hydraulic conductivity for all layers. So first we'll define a lookup table and geolayer characteristics."
   ]
  },
  {
   "cell_type": "code",
   "execution_count": 18,
   "id": "7d0d13a1",
   "metadata": {},
   "outputs": [],
   "source": [
    "NLay = sum(geolyr_subdivisions)\n",
    "lookup_table = np.concatenate(\n",
    "    list(np.ones(s, dtype=int)*i for i, s in\n",
    "         enumerate(geolyr_subdivisions)))\n",
    "\n",
    "lyr_k_hz = [Kh]\n",
    "lyr_k_vt = [Kh]"
   ]
  },
  {
   "cell_type": "markdown",
   "id": "568d5350",
   "metadata": {},
   "source": [
    "Here we’ll calculate the bottom elevation for all the layers that we’ll need for descritization package."
   ]
  },
  {
   "cell_type": "code",
   "execution_count": 19,
   "id": "52b5caaf",
   "metadata": {},
   "outputs": [],
   "source": [
    "thickness = np.zeros(NLay)\n",
    "k_hz = [0 for i in range(NLay)]\n",
    "k_vt = [0 for i in range(NLay)]\n",
    "bot = np.ones(NLay)"
   ]
  },
  {
   "cell_type": "markdown",
   "id": "1459be15",
   "metadata": {},
   "source": [
    "Now we’ll populate the values for the arrays we defined above."
   ]
  },
  {
   "cell_type": "code",
   "execution_count": 20,
   "id": "404042bc",
   "metadata": {},
   "outputs": [],
   "source": [
    "for lay in range(NLay):\n",
    "    geo_lay = lookup_table[lay]\n",
    "    thickness[lay] = geolyr_thickness[geo_lay]/geolyr_subdivisions[geo_lay]\n",
    "    k_hz[lay] = lyr_k_hz[geo_lay]\n",
    "    k_vt[lay] = lyr_k_vt[geo_lay]\n",
    "    bot[lay] = Top-sum(thickness)"
   ]
  },
  {
   "cell_type": "markdown",
   "id": "acf541ab",
   "metadata": {},
   "source": [
    "<a id=\"org992eff2\"></a>\n",
    "\n",
    "## Stress Period Functions\n",
    "\n",
    "The function gives the river stress period data for river package. It'll use the grid points that intersect with the river, and then calculate conductivity based on that intersection to finally return it. Head and conductance as well as grid points are calculated using the functions defined earlier."
   ]
  },
  {
   "cell_type": "code",
   "execution_count": 21,
   "id": "811440c7",
   "metadata": {},
   "outputs": [],
   "source": [
    "def get_riv_stress_period():\n",
    "    \"gives the stress_period_data on the grid_points for river grids.\"\n",
    "    for grid_pt, pt, length in get_grid_points(river, xy_grid_points=xy_grid_points):\n",
    "        # cellid, stage, cond, rbot, aux, boundname\n",
    "        stage = get_river_head(pt[0], pt[1])[0]\n",
    "        rbot = stage-1\n",
    "        lyrs = get_layers(stage, rbot)\n",
    "        for l, t, b in lyrs:\n",
    "            yield ((l, grid_pt[1], grid_pt[2]), stage,\n",
    "                   get_riv_conductance(length), b)"
   ]
  },
  {
   "cell_type": "markdown",
   "id": "d4505990",
   "metadata": {},
   "source": [
    "Similarly for constant head boundaries, we’ll also add the lake heads.\n",
    "\n"
   ]
  },
  {
   "cell_type": "code",
   "execution_count": 22,
   "id": "c6143281",
   "metadata": {},
   "outputs": [],
   "source": [
    "def get_chd_stress_period():\n",
    "    \"gives the stress_period_data on the grid_points for constant head points.\"\n",
    "    layers_tuple = list(get_layers(top=lake_top, bottom=lake_bottom))\n",
    "    for grid_pt, _, _ in get_grid_points(lake, xy_grid_points=xy_grid_points):\n",
    "        for lay, thk, bottom in layers_tuple:\n",
    "            # cellid, head\n",
    "            yield ((lay, grid_pt[1], grid_pt[2]), lake_top)\n",
    "\n",
    "    for grid_pt, pt, _ in get_grid_points(river, xy_grid_points=xy_grid_points):\n",
    "        # cellid, head\n",
    "        stage = get_river_head(pt[0], pt[1])[0]\n",
    "        rbot = stage-1\n",
    "        lyrs = get_layers(stage, rbot)\n",
    "        for l, t, b in lyrs:\n",
    "            yield ((l, grid_pt[1], grid_pt[2]), stage)"
   ]
  },
  {
   "cell_type": "markdown",
   "id": "549a72c1",
   "metadata": {},
   "source": [
    "Now the stress period data for wells. Second well stress period data is only added if the variable `SECOND_WELL_ON` is `True`."
   ]
  },
  {
   "cell_type": "code",
   "execution_count": 23,
   "id": "faaa3f7c",
   "metadata": {},
   "outputs": [],
   "source": [
    "def get_well_stress_period():\n",
    "    well1_layers = [l[0] for l in get_layers(well1_top, well1_bottom)]\n",
    "    well1_pts = get_grid_points(well1, xy_grid_points=xy_grid_points,\n",
    "                               layers=well1_layers)\n",
    "    rate1 = well1_rate/len(well1_layers)\n",
    "    spd = [(wpt, rate1) for wpt, _, _ in well1_pts]\n",
    "    if SECOND_WELL_ON:\n",
    "        well2_layers = [l[0] for l in get_layers(well2_top, well2_bottom)]\n",
    "        well2_pts = get_grid_points(well2, xy_grid_points=xy_grid_points,\n",
    "                                   layers=well2_layers)\n",
    "        rate2 = well2_rate/len(well2_layers)\n",
    "        spd += [(wpt, rate2) for wpt, _, _ in well2_pts]\n",
    "    return {0: spd}"
   ]
  },
  {
   "cell_type": "markdown",
   "id": "16fa108d",
   "metadata": {},
   "source": [
    "To see the stress period heads are correct we can plot it."
   ]
  },
  {
   "cell_type": "code",
   "execution_count": 24,
   "id": "05dbce5a",
   "metadata": {},
   "outputs": [],
   "source": [
    "sp = list(get_chd_stress_period())\n",
    "\n",
    "x = [l[0][2] for l in sp]+[0]\n",
    "y = [l[0][1] for l in sp]+[0]\n",
    "c = [l[1] for l in sp] + [None]"
   ]
  },
  {
   "cell_type": "code",
   "execution_count": 25,
   "id": "597317f1",
   "metadata": {},
   "outputs": [
    {
     "name": "stderr",
     "output_type": "stream",
     "text": [
      "/usr/lib/python3.10/site-packages/matplotlib/backends/backend_pdf.py:1721: DeprecationWarning: NONE is deprecated and will be removed in Pillow 10 (2023-07-01). Use Resampling.NEAREST or Dither.NONE instead.\n",
      "  img = img.convert(mode='P', dither=Image.NONE,\n",
      "/usr/lib/python3.10/site-packages/matplotlib/backends/backend_pdf.py:1722: DeprecationWarning: ADAPTIVE is deprecated and will be removed in Pillow 10 (2023-07-01). Use Palette.ADAPTIVE instead.\n",
      "  palette=Image.ADAPTIVE, colors=num_colors)\n"
     ]
    },
    {
     "data": {
      "image/png": "[encoded data removed]",
      "text/plain": [
       "<Figure size 432x288 with 2 Axes>"
      ]
     },
     "metadata": {
      "needs_background": "light"
     },
     "output_type": "display_data"
    }
   ],
   "source": [
    "plt.scatter(x, y, c=c)\n",
    "plt.xlim(left=0, right=NC)\n",
    "plt.ylim(bottom=NR, top=0)\n",
    "plt.colorbar()\n",
    "filename=\"./images/4_calib_input.pdf\"\n",
    "plt.savefig(filename)\n",
    "plt.show()"
   ]
  },
  {
   "cell_type": "markdown",
   "id": "c6f63313",
   "metadata": {},
   "source": [
    "<a id=\"orge4d7576\"></a>\n",
    "\n",
    "## Flopy Model\n",
    "\n",
    "Let's define the paths and the executable for simulation."
   ]
  },
  {
   "cell_type": "code",
   "execution_count": 26,
   "id": "9f66a957",
   "metadata": {},
   "outputs": [],
   "source": [
    "ws = './models/4_calibration'\n",
    "name = '4_calibration'\n",
    "\n",
    "sim = flopy.mf6.MFSimulation(sim_name=name,\n",
    "                             sim_ws=ws,\n",
    "                             exe_name='modflow-mf6')"
   ]
  },
  {
   "cell_type": "markdown",
   "id": "ed14c126",
   "metadata": {},
   "source": [
    "The time descritization will use default parameters as we want steady state. We’ll use days as time unit."
   ]
  },
  {
   "cell_type": "code",
   "execution_count": 27,
   "id": "6fa5d910",
   "metadata": {},
   "outputs": [],
   "source": [
    "tdis = flopy.mf6.ModflowTdis(sim,\n",
    "                             time_units='days')\n",
    "ims = flopy.mf6.ModflowIms(sim)\n",
    "gwf = flopy.mf6.ModflowGwf(sim, modelname=name, save_flows=True)"
   ]
  },
  {
   "cell_type": "markdown",
   "id": "70780365",
   "metadata": {},
   "source": [
    "Now using the previously defined parameters let’s define the descritization package to define our model grid.\n",
    "\n"
   ]
  },
  {
   "cell_type": "code",
   "execution_count": 28,
   "id": "219cada5",
   "metadata": {},
   "outputs": [],
   "source": [
    "dis = flopy.mf6.ModflowGwfdis(gwf,\n",
    "                              length_units='METERS',\n",
    "                              nlay=NLay,\n",
    "                              nrow=NR,\n",
    "                              ncol=NC,\n",
    "                              delc=ΔX,\n",
    "                              delr=ΔY,\n",
    "                              top=Top,\n",
    "                              botm=bot)"
   ]
  },
  {
   "cell_type": "markdown",
   "id": "0caeaa5d",
   "metadata": {},
   "source": [
    "We’ll use the top elevation as the initial head for all the cells except for the cells that belongs to the constant head boundaries."
   ]
  },
  {
   "cell_type": "code",
   "execution_count": 29,
   "id": "fe834bc7",
   "metadata": {},
   "outputs": [],
   "source": [
    "initial_head = np.ones((NLay, NR, NC)) * Top\n",
    "for gp, head in get_chd_stress_period():\n",
    "    initial_head[gp] = head\n",
    "\n",
    "ic = flopy.mf6.ModflowGwfic(gwf, strt=initial_head)"
   ]
  },
  {
   "cell_type": "markdown",
   "id": "ce24701e",
   "metadata": {},
   "source": [
    "For recharge we’ll use the parameter defined above."
   ]
  },
  {
   "cell_type": "code",
   "execution_count": 30,
   "id": "e27c07e1",
   "metadata": {},
   "outputs": [],
   "source": [
    "recharge = flopy.mf6.ModflowGwfrcha(gwf, recharge=rech)"
   ]
  },
  {
   "cell_type": "markdown",
   "id": "f88440ad",
   "metadata": {},
   "source": [
    "We’ll modify the cells that are on the river extent to have the same vertical conductance as that of the river bed. It’ll simulate the river bed leakance for us."
   ]
  },
  {
   "cell_type": "code",
   "execution_count": 31,
   "id": "8a7b57f9",
   "metadata": {},
   "outputs": [],
   "source": [
    "k_vt_new = np.ones(shape=(NLay, NR, NC))*Kh\n",
    "\n",
    "for gp, _, cond, _ in get_riv_stress_period():\n",
    "    k_vt_new[gp] = cond"
   ]
  },
  {
   "cell_type": "markdown",
   "id": "1aa65c2e",
   "metadata": {},
   "source": [
    "We’ll use the modified vertical conductance for the k33 variable and constant value for horizontal one."
   ]
  },
  {
   "cell_type": "code",
   "execution_count": 32,
   "id": "57cb0560",
   "metadata": {},
   "outputs": [],
   "source": [
    "npf = flopy.mf6.ModflowGwfnpf(gwf,\n",
    "                              icelltype=1,\n",
    "                              k=k_hz,\n",
    "                              k33=k_vt_new,\n",
    "                              save_specific_discharge=True)"
   ]
  },
  {
   "cell_type": "markdown",
   "id": "9a1bf15a",
   "metadata": {},
   "source": [
    "Now we’ll define the chd package.\n",
    "\n"
   ]
  },
  {
   "cell_type": "code",
   "execution_count": 33,
   "id": "88753470",
   "metadata": {},
   "outputs": [],
   "source": [
    "chd = flopy.mf6.ModflowGwfchd(\n",
    "    gwf,\n",
    "    stress_period_data=list(get_chd_stress_period()))"
   ]
  },
  {
   "cell_type": "markdown",
   "id": "75092f4c",
   "metadata": {},
   "source": [
    "The riv package."
   ]
  },
  {
   "cell_type": "code",
   "execution_count": 34,
   "id": "ad4c7e64",
   "metadata": {},
   "outputs": [],
   "source": [
    "rivers = flopy.mf6.ModflowGwfriv(\n",
    "    gwf,\n",
    "    stress_period_data=list(get_riv_stress_period()))"
   ]
  },
  {
   "cell_type": "markdown",
   "id": "3ec2ed35",
   "metadata": {},
   "source": [
    "Now the well stress period."
   ]
  },
  {
   "cell_type": "code",
   "execution_count": 35,
   "id": "b1e92e5b",
   "metadata": {},
   "outputs": [],
   "source": [
    "wells = flopy.mf6.ModflowGwfwel(\n",
    "    gwf,\n",
    "    stress_period_data=get_well_stress_period())"
   ]
  },
  {
   "cell_type": "markdown",
   "id": "b5449d1c",
   "metadata": {},
   "source": [
    "Files to save the output data."
   ]
  },
  {
   "cell_type": "code",
   "execution_count": 36,
   "id": "1235ad6a",
   "metadata": {},
   "outputs": [],
   "source": [
    "budget_file = name + '.bud'\n",
    "head_file = name + '.hds'\n",
    "oc = flopy.mf6.ModflowGwfoc(gwf,\n",
    "                            budget_filerecord=budget_file,\n",
    "                            head_filerecord=head_file,\n",
    "                            saverecord=[('HEAD', 'ALL'),\n",
    "                                        ('BUDGET', 'ALL')])"
   ]
  },
  {
   "cell_type": "markdown",
   "id": "29d01119",
   "metadata": {},
   "source": [
    "Now finally we can save the files and run modflow simulation."
   ]
  },
  {
   "cell_type": "code",
   "execution_count": 37,
   "id": "b0e60a23",
   "metadata": {},
   "outputs": [
    {
     "name": "stdout",
     "output_type": "stream",
     "text": [
      "writing simulation...\n",
      "  writing simulation name file...\n",
      "  writing simulation tdis package...\n",
      "  writing ims package ims_-1...\n",
      "  writing model 4_calibration...\n",
      "    writing model name file...\n",
      "    writing package dis...\n",
      "    writing package ic...\n",
      "    writing package rcha_0...\n",
      "    writing package npf...\n",
      "    writing package chd_0...\n",
      "INFORMATION: maxbound in ('gwf6', 'chd', 'dimensions') changed to 16320 based on size of stress_period_data\n",
      "    writing package riv_0...\n",
      "INFORMATION: maxbound in ('gwf6', 'riv', 'dimensions') changed to 220 based on size of stress_period_data\n",
      "    writing package wel_0...\n",
      "INFORMATION: maxbound in ('gwf6', 'wel', 'dimensions') changed to 46 based on size of stress_period_data\n",
      "    writing package oc...\n",
      "FloPy is using the following executable to run the model: /usr/local/bin/modflow-mf6\n",
      "                                   MODFLOW 6\n",
      "                U.S. GEOLOGICAL SURVEY MODULAR HYDROLOGIC MODEL\n",
      "                            VERSION 6.2.2 07/30/2021\n",
      "\n",
      "  MODFLOW 6 compiled Sep 19 2021 15:10:43 with GFORTRAN compiler (ver. 11.1.0)\n",
      "\n",
      "This software has been approved for release by the U.S. Geological \n",
      "Survey (USGS). Although the software has been subjected to rigorous \n",
      "review, the USGS reserves the right to update the software as needed \n",
      "pursuant to further analysis and review. No warranty, expressed or \n",
      "implied, is made by the USGS or the U.S. Government as to the \n",
      "functionality of the software and related material nor shall the \n",
      "fact of release constitute any such warranty. Furthermore, the \n",
      "software is released on condition that neither the USGS nor the U.S. \n",
      "Government shall be held liable for any damages resulting from its \n",
      "authorized or unauthorized use. Also refer to the USGS Water \n",
      "Resources Software User Rights Notice for complete use, copyright, \n",
      "and distribution information.\n",
      "\n",
      "\n",
      " Run start date and time (yyyy/mm/dd hh:mm:ss): 2022/04/25 14:33:01\n",
      "\n",
      " Writing simulation list file: mfsim.lst\n",
      " Using Simulation name file: mfsim.nam\n",
      "\n",
      "    Solving:  Stress period:     1    Time step:     1\n",
      "\n",
      " Run end date and time (yyyy/mm/dd hh:mm:ss): 2022/04/25 14:33:15\n",
      " Elapsed run time: 14.374 Seconds\n",
      "\n",
      " Normal termination of simulation.\n"
     ]
    },
    {
     "data": {
      "text/plain": [
       "True"
      ]
     },
     "execution_count": 37,
     "metadata": {},
     "output_type": "execute_result"
    }
   ],
   "source": [
    "sim.write_simulation()\n",
    "result,_ = sim.run_simulation()\n",
    "result"
   ]
  },
  {
   "cell_type": "markdown",
   "id": "4e7b2dcd",
   "metadata": {},
   "source": [
    "<a id=\"orgbd136c6\"></a>\n",
    "\n",
    "## Simulation Post Processing\n",
    "\n",
    "We can extract the simulation output from the simulation."
   ]
  },
  {
   "cell_type": "code",
   "execution_count": 38,
   "id": "1be9c492",
   "metadata": {},
   "outputs": [],
   "source": [
    "head_arr = gwf.output.head().get_data()\n",
    "bud = gwf.output.budget()"
   ]
  },
  {
   "cell_type": "markdown",
   "id": "d5a5f8dd",
   "metadata": {},
   "source": [
    "And use the postprocessing tools to get the watertable as well as the specific discharges."
   ]
  },
  {
   "cell_type": "code",
   "execution_count": 39,
   "id": "657e0eff",
   "metadata": {},
   "outputs": [],
   "source": [
    "watertable = flopy.utils.postprocessing.get_water_table(head_arr, -1e30)\n",
    "spdis = bud.get_data(text='DATA-SPDIS')[0]\n",
    "qx, qy, qz = flopy.utils.postprocessing.get_specific_discharge(spdis, gwf)"
   ]
  },
  {
   "cell_type": "markdown",
   "id": "01d18a58",
   "metadata": {},
   "source": [
    "Now we can get the head value from the watertable for all the well grid points."
   ]
  },
  {
   "cell_type": "code",
   "execution_count": 40,
   "id": "7b3863f4",
   "metadata": {},
   "outputs": [],
   "source": [
    "model_heads = map(lambda x: watertable[(x[1], x[2])], calib_wells_grid_pts)"
   ]
  },
  {
   "cell_type": "markdown",
   "id": "ffc79a24",
   "metadata": {},
   "source": [
    "By doing some calculations we can calculate the errors for individual wells. Let’s also calculate the size and color for the wells based on the absolute error and is it below or above the predicted value."
   ]
  },
  {
   "cell_type": "code",
   "execution_count": 41,
   "id": "0c5c659e",
   "metadata": {},
   "outputs": [],
   "source": [
    "calib_wells.loc[:, 'model_h'] = pd.Series(model_heads)\n",
    "calib_wells.loc[:, 'err'] = calib_wells.model_h - calib_wells.h\n",
    "calib_wells.loc[:, 'sq_err'] = calib_wells.err * calib_wells.err\n",
    "calib_wells.loc[:, 'pt_size'] = calib_wells.err.map(lambda x: abs(x))\n",
    "calib_wells.loc[:, 'pt_color'] = calib_wells.err.map(lambda x: 'red' if x>0 else 'blue')"
   ]
  },
  {
   "cell_type": "markdown",
   "id": "094ce3ae",
   "metadata": {},
   "source": [
    "The RMSE and NSE values can be calculated from the individual error values."
   ]
  },
  {
   "cell_type": "code",
   "execution_count": 42,
   "id": "e22cbd4e",
   "metadata": {},
   "outputs": [
    {
     "name": "stdout",
     "output_type": "stream",
     "text": [
      "Rch=18 inch/year; K=4.48 m/day; RK=0.01 ; RMSE=10.076239940964998; NSE=0.8301897496017947\n"
     ]
    }
   ],
   "source": [
    "rmse = math.sqrt(calib_wells.sq_err.sum())\n",
    "nse = 1 - calib_wells.sq_err.sum()/(calib_wells.h - calib_wells.h.mean()).map(lambda x: x**2).sum()\n",
    "\n",
    "print(f'Rch={Rch} inch/year; K={Kh} m/day; RK={riv_cond} ; RMSE={rmse}; NSE={nse}')"
   ]
  },
  {
   "cell_type": "markdown",
   "id": "c40def7b",
   "metadata": {},
   "source": [
    "Rch=18 inch/year; K=4.48 m/day; RK=0.01 ; RMSE=10.076239940964998; NSE=0.8301897496017947"
   ]
  },
  {
   "cell_type": "markdown",
   "id": "e7f119d6",
   "metadata": {},
   "source": [
    "<a id=\"org5a8dad9\"></a>\n",
    "\n",
    "## Plots"
   ]
  },
  {
   "cell_type": "code",
   "execution_count": 43,
   "id": "9e5d4f6b",
   "metadata": {},
   "outputs": [
    {
     "name": "stderr",
     "output_type": "stream",
     "text": [
      "/tmp/ipykernel_46230/3771384213.py:29: UserWarning: This figure was using constrained_layout, but that is incompatible with subplots_adjust and/or tight_layout; disabling constrained_layout.\n",
      "  fig.tight_layout()\n"
     ]
    },
    {
     "data": {
      "image/png": "[encoded data removed]",
      "text/plain": [
       "<Figure size 432x288 with 2 Axes>"
      ]
     },
     "metadata": {
      "needs_background": "light"
     },
     "output_type": "display_data"
    }
   ],
   "source": [
    "gs = gs = gridspec.GridSpec(1, 5)\n",
    "fig = plt.figure(constrained_layout=True)\n",
    "ax1 = fig.add_subplot(gs[0, :4])\n",
    "\n",
    "ax1.set_title('Water Table')\n",
    "pmv = flopy.plot.PlotMapView(gwf, ax=ax1)\n",
    "pmv.plot_array(watertable)\n",
    "pmv.plot_grid(colors='white', linewidths=0.3)\n",
    "contours = pmv.contour_array(watertable,\n",
    "                             levels=np.arange(0, 100, 1),\n",
    "                             linewidths=1.,\n",
    "                             colors='black')\n",
    "ax1.clabel(contours, fmt=\"%.0f\")\n",
    "pmv.contour_array(watertable,\n",
    "                  levels=np.arange(0, 100, .2),\n",
    "                  linewidths=.4,\n",
    "                  colors='black')\n",
    "ax1.plot(river_df.x, river_df.y, linewidth=2, color='red')\n",
    "\n",
    "ax1.scatter(calib_wells.x, calib_wells.y,\n",
    "           s=calib_wells.pt_size,\n",
    "           c=calib_wells.pt_color)\n",
    "\n",
    "\n",
    "ax2 = fig.add_subplot(gs[0, 4])\n",
    "ax2.scatter(calib_wells.h, calib_wells.model_h, c=calib_wells.pt_color)\n",
    "max_h = max(calib_wells.h.max(), calib_wells.model_h.max())\n",
    "plt.plot([0, max_h], [0, max_h])\n",
    "fig.tight_layout()\n",
    "plt.savefig(\"./images/4_calibration.png\")\n",
    "plt.show()"
   ]
  },
  {
   "cell_type": "markdown",
   "id": "6d17c415",
   "metadata": {},
   "source": [
    "Here in the plot we can see the points above and below the model lines with red and blue color respectively. Seeing the distribution of errors we can adjust the values of Kh and RivKh as well as recharge to get the model calibrated."
   ]
  },
  {
   "cell_type": "markdown",
   "id": "c4045f2d",
   "metadata": {},
   "source": [
    "<a id=\"org57ff250\"></a>\n",
    "\n",
    "# Summary of Calibration Trials"
   ]
  },
  {
   "cell_type": "markdown",
   "id": "4318e1bc",
   "metadata": {},
   "source": [
    "There were a lot of calibration trials done for the parameters to reach the current value they have.\n",
    "\n",
    "Here is the summary of final trial where the blue region shows the models which resulted in good NSE values.\n",
    "\n",
    "![trial-parallel-plot](./images/4_calib-pp.pdf.png)\n",
    "\n",
    "The models with >.8 NSE are tabulated below:\n",
    "\n",
    "<table border=\"2\" cellspacing=\"0\" cellpadding=\"6\" rules=\"groups\" frame=\"hsides\">\n",
    "\n",
    "\n",
    "<colgroup>\n",
    "<col  class=\"org-right\" />\n",
    "\n",
    "<col  class=\"org-right\" />\n",
    "\n",
    "<col  class=\"org-right\" />\n",
    "\n",
    "<col  class=\"org-right\" />\n",
    "\n",
    "<col  class=\"org-right\" />\n",
    "</colgroup>\n",
    "<thead>\n",
    "<tr>\n",
    "<th scope=\"col\" class=\"org-right\">Kh</th>\n",
    "<th scope=\"col\" class=\"org-right\">RivKh</th>\n",
    "<th scope=\"col\" class=\"org-right\">Rech</th>\n",
    "<th scope=\"col\" class=\"org-right\">RMSE</th>\n",
    "<th scope=\"col\" class=\"org-right\">NSE</th>\n",
    "</tr>\n",
    "</thead>\n",
    "\n",
    "<tbody>\n",
    "<tr>\n",
    "<td class=\"org-right\">3.96</td>\n",
    "<td class=\"org-right\">0.01</td>\n",
    "<td class=\"org-right\">16.00</td>\n",
    "<td class=\"org-right\">10.14</td>\n",
    "<td class=\"org-right\">0.828</td>\n",
    "</tr>\n",
    "\n",
    "\n",
    "<tr>\n",
    "<td class=\"org-right\">3.96</td>\n",
    "<td class=\"org-right\">0.01</td>\n",
    "<td class=\"org-right\">16.67</td>\n",
    "<td class=\"org-right\">10.92</td>\n",
    "<td class=\"org-right\">0.801</td>\n",
    "</tr>\n",
    "\n",
    "\n",
    "<tr>\n",
    "<td class=\"org-right\">4.13</td>\n",
    "<td class=\"org-right\">0.01</td>\n",
    "<td class=\"org-right\">16.00</td>\n",
    "<td class=\"org-right\">10.42</td>\n",
    "<td class=\"org-right\">0.818</td>\n",
    "</tr>\n",
    "\n",
    "\n",
    "<tr>\n",
    "<td class=\"org-right\">4.13</td>\n",
    "<td class=\"org-right\">0.01</td>\n",
    "<td class=\"org-right\">16.67</td>\n",
    "<td class=\"org-right\">10.10</td>\n",
    "<td class=\"org-right\">0.830</td>\n",
    "</tr>\n",
    "\n",
    "\n",
    "<tr>\n",
    "<td class=\"org-right\">4.13</td>\n",
    "<td class=\"org-right\">0.01</td>\n",
    "<td class=\"org-right\">17.33</td>\n",
    "<td class=\"org-right\">10.82</td>\n",
    "<td class=\"org-right\">0.804</td>\n",
    "</tr>\n",
    "\n",
    "\n",
    "<tr>\n",
    "<td class=\"org-right\">4.31</td>\n",
    "<td class=\"org-right\">0.01</td>\n",
    "<td class=\"org-right\">16.67</td>\n",
    "<td class=\"org-right\">10.31</td>\n",
    "<td class=\"org-right\">0.822</td>\n",
    "</tr>\n",
    "\n",
    "\n",
    "<tr>\n",
    "<td class=\"org-right\">4.31</td>\n",
    "<td class=\"org-right\">0.01</td>\n",
    "<td class=\"org-right\">17.33</td>\n",
    "<td class=\"org-right\">10.03</td>\n",
    "<td class=\"org-right\">0.832</td>\n",
    "</tr>\n",
    "\n",
    "\n",
    "<tr>\n",
    "<td class=\"org-right\">4.31</td>\n",
    "<td class=\"org-right\">0.01</td>\n",
    "<td class=\"org-right\">18.00</td>\n",
    "<td class=\"org-right\">10.74</td>\n",
    "<td class=\"org-right\">0.807</td>\n",
    "</tr>\n",
    "\n",
    "\n",
    "<tr>\n",
    "<td class=\"org-right\">4.48</td>\n",
    "<td class=\"org-right\">0.01</td>\n",
    "<td class=\"org-right\">17.33</td>\n",
    "<td class=\"org-right\">10.25</td>\n",
    "<td class=\"org-right\">0.824</td>\n",
    "</tr>\n",
    "\n",
    "\n",
    "<tr>\n",
    "<td class=\"org-right\">4.48</td>\n",
    "<td class=\"org-right\">0.01</td>\n",
    "<td class=\"org-right\">18.00</td>\n",
    "<td class=\"org-right\">9.99</td>\n",
    "<td class=\"org-right\">0.833</td>\n",
    "</tr>\n",
    "\n",
    "\n",
    "<tr>\n",
    "<td class=\"org-right\">4.65</td>\n",
    "<td class=\"org-right\">0.01</td>\n",
    "<td class=\"org-right\">18.00</td>\n",
    "<td class=\"org-right\">10.16</td>\n",
    "<td class=\"org-right\">0.827</td>\n",
    "</tr>\n",
    "</tbody>\n",
    "</table>\n",
    "\n",
    "It took a lot of trials and errors to even get the model right at first, I'd like to show these in an attempt to convey how important calibration is in modeling. Before this model, we didn't calibrate any so we don't know they're doing well, giving good results or not.\n",
    "\n",
    "For example, first batch processing on this problem couldn't find any good values for the calibration parameters.\n",
    "\n",
    "![trial-1](./images/4_trial1.pdf.png)\n",
    "\n",
    "As shown in the last plot, the green area is the area with Positive NSE values, so all of our 900 trials fell under the \"worse than just averaging the data\" level of calibration. Which let us know something was either wrong with the model, or wrong with calculation of errors (or sampling of model head on well locations).\n",
    "\n",
    "And model was improved and again we ran into same problem.\n",
    "\n",
    "![trial-2](./images/4_trial2.pdf.png)\n",
    "\n",
    "Previously we could see the Trend of K value for optimization, but here before we reached that value, it was apparent that the points were not going towards the Positive NSE values. And this made me check the sampling of wells and turns out our calculation of grid point was off, then I modified the `get_grid_points()` and used that to get grid points instead of manually calculating it using the ΔX, ΔY myself. And finally I was able to solve this mystery and the final trials looked good.\n",
    "\n",
    "![calib-trials](./images/4_calib-trials.pdf.png)\n",
    "\n",
    "This time the calibration looked good. I also looked at the residuals.\n",
    "\n",
    "![residuals](./images/4_calib-residuals.pdf.png)\n",
    "\n",
    "Most points are within 1σ of the 1:1 line, and all but 2 points are within the 2σ range. Hence I concluded the calibration.\n",
    "\n",
    "This overall process and this model was extremely important on understanding the need of calibrating a model as a model is only good enough if it matches the observed data, and even then we can't trust the same model for other data that is wasn't calibrated for."
   ]
  },
  {
   "cell_type": "markdown",
   "id": "9045c71d",
   "metadata": {},
   "source": [
    "<a id=\"org7cabdb7\"></a>\n",
    "\n",
    "# Export to vtk format\n",
    "\n",
    "We can also export the heads data we obtained from the simulation and then visualize it using external tools like Paraview."
   ]
  },
  {
   "cell_type": "code",
   "execution_count": 44,
   "id": "c4d8f691",
   "metadata": {},
   "outputs": [
    {
     "name": "stderr",
     "output_type": "stream",
     "text": [
      "/home/gaurav/.local/lib/python3.10/site-packages/flopy/export/vtk.py:1844: UserWarning: export_heads is deprecated, use Vtk.add_heads()\n",
      "  warnings.warn(\"export_heads is deprecated, use Vtk.add_heads()\")\n",
      "/home/gaurav/.local/lib/python3.10/site-packages/flopy/export/vtk.py:1847: UserWarning: nanval is deprecated, setting to np.nan\n",
      "  warnings.warn(\"nanval is deprecated, setting to np.nan\")\n"
     ]
    }
   ],
   "source": [
    "import os\n",
    "from flopy.export import vtk\n",
    "vtk.export_heads(sim.get_model(), os.path.join(ws, head_file), ws, smooth=False, kstpkper=[(0,0)], point_scalars=False, nanval=-1e30)"
   ]
  },
  {
   "cell_type": "markdown",
   "id": "8f4548ab",
   "metadata": {},
   "source": [
    "After running the code we get a `.vtk` file in the same directory as the model files, after that we can load it in Paraview."
   ]
  }
 ],
 "metadata": {
  "kernelspec": {
   "display_name": "Python 3",
   "language": "python",
   "name": "python3"
  },
  "language_info": {
   "codemirror_mode": {
    "name": "ipython",
    "version": 3
   },
   "file_extension": ".py",
   "mimetype": "text/x-python",
   "name": "python",
   "nbconvert_exporter": "python",
   "pygments_lexer": "ipython3",
   "version": "3.10.4"
  }
 },
 "nbformat": 4,
 "nbformat_minor": 5
}
