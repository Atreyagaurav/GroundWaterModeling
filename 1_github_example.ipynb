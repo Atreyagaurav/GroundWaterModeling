{
 "cells": [
  {
   "cell_type": "markdown",
   "id": "343e134f",
   "metadata": {},
   "source": [
    "# Table of Contents\n",
    "\n",
    "1.  [Introduction](#org413d065)\n",
    "2.  [Code](#org96b00ef)\n",
    "    1.  [Importing Libraries](#org3acb348)\n",
    "    2.  [Flopy model](#orgb3310d2)\n",
    "    3.  [Zone budget](#org4791276)\n",
    "3.  [Export to vtk format](#org789ee7c)"
   ]
  },
  {
   "cell_type": "markdown",
   "id": "de35a49a",
   "metadata": {},
   "source": [
    "<a id=\"org413d065\"></a>\n",
    "# Introduction\n",
    "This model is very basic model on a simple grid to show what flopy can do, and be familiar with the functions and classes in flopy. We’ll use the model from the flopy github readme, and make and run the model. It’s mostly to confirm your installation of modf·low and flopy are correct and any code we write for other exercises will be run properly."
   ]
  },
  {
   "cell_type": "markdown",
   "id": "2c161f6b",
   "metadata": {},
   "source": [
    "<a id=\"org96b00ef\"></a>\n",
    "\n",
    "# Code\n",
    "\n",
    "\n",
    "<a id=\"org3acb348\"></a>\n",
    "\n",
    "## Importing Libraries\n",
    "\n",
    "First Let's load libraries, flopy is the flopy library and matplotlib is for plotting the plots, flopy also uses this internally for the plots."
   ]
  },
  {
   "cell_type": "code",
   "execution_count": 1,
   "id": "a71fbfb8",
   "metadata": {},
   "outputs": [],
   "source": [
    "import flopy\n",
    "import matplotlib.pyplot as plt"
   ]
  },
  {
   "cell_type": "markdown",
   "id": "d25cff10",
   "metadata": {},
   "source": [
    "<a id=\"orgb3310d2\"></a>\n",
    "\n",
    "## Flopy model\n",
    "\n",
    "We also need to define the working directories flopy will save the modflow model in that directory with given name. Here we also **give the exe_name which is the modflow executable** to be called for simulation."
   ]
  },
  {
   "cell_type": "code",
   "execution_count": 2,
   "id": "951619d8",
   "metadata": {},
   "outputs": [],
   "source": [
    "ws = './models/01_github_example/'\n",
    "name = '01_git_ex'\n",
    "sim = flopy.mf6.MFSimulation(sim_name=name, sim_ws=ws, exe_name='modflow-mf6')"
   ]
  },
  {
   "cell_type": "markdown",
   "id": "f95dce1f",
   "metadata": {},
   "source": [
    "After we have a simulation object, we can add more packages. Here tdis package is for time descretization we’re using the default values as we don’t have timesteps.\n",
    "\n",
    "I don’t know what ims package does.\n",
    "\n",
    "gwf is groundwaterflow package."
   ]
  },
  {
   "cell_type": "code",
   "execution_count": 3,
   "id": "a9c0eff4",
   "metadata": {},
   "outputs": [],
   "source": [
    "tdis = flopy.mf6.ModflowTdis(sim)\n",
    "ims = flopy.mf6.ModflowIms(sim)\n",
    "gwf = flopy.mf6.ModflowGwf(sim, modelname=name, save_flows=True)"
   ]
  },
  {
   "cell_type": "markdown",
   "id": "54cb6476",
   "metadata": {},
   "source": [
    "Here we define descretization package which will take number of rows and columns and make a grid internally. We’re using 10x10 grids."
   ]
  },
  {
   "cell_type": "code",
   "execution_count": 4,
   "id": "fb270c92",
   "metadata": {},
   "outputs": [],
   "source": [
    "dis = flopy.mf6.ModflowGwfdis(gwf, nrow=10, ncol=10)\n",
    "ic = flopy.mf6.ModflowGwfic(gwf)\n",
    "npf = flopy.mf6.ModflowGwfnpf(gwf, save_specific_discharge=True)"
   ]
  },
  {
   "cell_type": "markdown",
   "id": "7290a9e7",
   "metadata": {},
   "source": [
    "Now we can use chd package which is used for constant head conditions, we have assigned two points with heads 1 and zero we we can see the flow from higher head to lower."
   ]
  },
  {
   "cell_type": "code",
   "execution_count": 5,
   "id": "def0d0d0",
   "metadata": {},
   "outputs": [],
   "source": [
    "chd = flopy.mf6.ModflowGwfchd(gwf, stress_period_data=[[(0, 0, 0), 1.],\n",
    "                                                       [(0, 9, 9), 0.]])"
   ]
  },
  {
   "cell_type": "markdown",
   "id": "09e0a3d0",
   "metadata": {},
   "source": [
    "Now the oc package will be used to give the filenames for where the results will be saved. We can load these files directly and use the data next time if running model everytime is troublesome."
   ]
  },
  {
   "cell_type": "code",
   "execution_count": 6,
   "id": "0a6efc65",
   "metadata": {},
   "outputs": [],
   "source": [
    "budget_file = name + '.bud'\n",
    "head_file = name + '.hds'\n",
    "oc = flopy.mf6.ModflowGwfoc(gwf,\n",
    "                            budget_filerecord=budget_file,\n",
    "                            head_filerecord=head_file,\n",
    "                            saverecord=[('HEAD', 'ALL'), ('BUDGET', 'ALL')])"
   ]
  },
  {
   "cell_type": "markdown",
   "id": "27e35c2a",
   "metadata": {},
   "source": [
    "After we have all the packages we use `write_simulation()` function to write the files for the simulation that will be used my modflow when we use `run_simulation()`."
   ]
  },
  {
   "cell_type": "code",
   "execution_count": 7,
   "id": "f0215abd",
   "metadata": {},
   "outputs": [
    {
     "name": "stdout",
     "output_type": "stream",
     "text": [
      "writing simulation...\n",
      "  writing simulation name file...\n",
      "  writing simulation tdis package...\n",
      "  writing ims package ims_-1...\n",
      "  writing model 01_git_ex...\n",
      "    writing model name file...\n",
      "    writing package dis...\n",
      "    writing package ic...\n",
      "    writing package npf...\n",
      "    writing package chd_0...\n",
      "INFORMATION: maxbound in ('gwf6', 'chd', 'dimensions') changed to 2 based on size of stress_period_data\n",
      "    writing package oc...\n",
      "FloPy is using the following executable to run the model: /usr/local/bin/modflow-mf6\n",
      "                                   MODFLOW 6\n",
      "                U.S. GEOLOGICAL SURVEY MODULAR HYDROLOGIC MODEL\n",
      "                            VERSION 6.2.2 07/30/2021\n",
      "\n",
      "  MODFLOW 6 compiled Sep 19 2021 15:10:43 with GFORTRAN compiler (ver. 11.1.0)\n",
      "\n",
      "This software has been approved for release by the U.S. Geological \n",
      "Survey (USGS). Although the software has been subjected to rigorous \n",
      "review, the USGS reserves the right to update the software as needed \n",
      "pursuant to further analysis and review. No warranty, expressed or \n",
      "implied, is made by the USGS or the U.S. Government as to the \n",
      "functionality of the software and related material nor shall the \n",
      "fact of release constitute any such warranty. Furthermore, the \n",
      "software is released on condition that neither the USGS nor the U.S. \n",
      "Government shall be held liable for any damages resulting from its \n",
      "authorized or unauthorized use. Also refer to the USGS Water \n",
      "Resources Software User Rights Notice for complete use, copyright, \n",
      "and distribution information.\n",
      "\n",
      "\n",
      " Run start date and time (yyyy/mm/dd hh:mm:ss): 2022/04/25 14:30:22\n",
      "\n",
      " Writing simulation list file: mfsim.lst\n",
      " Using Simulation name file: mfsim.nam\n",
      "\n",
      "    Solving:  Stress period:     1    Time step:     1\n",
      "\n",
      " Run end date and time (yyyy/mm/dd hh:mm:ss): 2022/04/25 14:30:22\n",
      " Elapsed run time:  0.009 Seconds\n",
      "\n",
      " Normal termination of simulation.\n"
     ]
    },
    {
     "data": {
      "text/plain": [
       "(True, [])"
      ]
     },
     "execution_count": 7,
     "metadata": {},
     "output_type": "execute_result"
    }
   ],
   "source": [
    "sim.write_simulation()\n",
    "sim.run_simulation()"
   ]
  },
  {
   "cell_type": "markdown",
   "id": "75316708",
   "metadata": {},
   "source": [
    "The output of `run_simulation()` is `True`, hence the model run was successful.\n",
    "\n",
    "We can extract the values from the model. We can also extract them using the output files we saved using oc package."
   ]
  },
  {
   "cell_type": "code",
   "execution_count": 8,
   "id": "929708f8",
   "metadata": {},
   "outputs": [],
   "source": [
    "head = gwf.output.head().get_data()\n",
    "bud = gwf.output.budget()"
   ]
  },
  {
   "cell_type": "markdown",
   "id": "6cbe5041",
   "metadata": {},
   "source": [
    "The output files for head and bud are binary files and are quite hard to read (even more so because 3D data are compressed to 1D), so we’re going to use postprocessing tools to get the data we want. Let’s get the specific discharge values so we can use them to plot arrows in the plan to show the direction of flow.\n",
    "\n"
   ]
  },
  {
   "cell_type": "code",
   "execution_count": 9,
   "id": "b823f629",
   "metadata": {},
   "outputs": [],
   "source": [
    "spdis = bud.get_data(text='DATA-SPDIS')[0]\n",
    "qx, qy, qz = flopy.utils.postprocessing.get_specific_discharge(spdis, gwf)"
   ]
  },
  {
   "cell_type": "markdown",
   "id": "11135525",
   "metadata": {},
   "source": [
    "Now we can use model structure and the output to make plots."
   ]
  },
  {
   "cell_type": "code",
   "execution_count": 10,
   "id": "94d596b6",
   "metadata": {},
   "outputs": [
    {
     "data": {
      "image/png": "[encoded data removed]",
      "text/plain": [
       "<Figure size 432x288 with 1 Axes>"
      ]
     },
     "metadata": {
      "needs_background": "light"
     },
     "output_type": "display_data"
    }
   ],
   "source": [
    "pmv = flopy.plot.PlotMapView(gwf)\n",
    "pmv.plot_array(head)\n",
    "pmv.plot_grid(colors='white')\n",
    "pmv.contour_array(head, levels=[.2, .4, .6, .8], linewidths=3.)\n",
    "pmv.plot_vector(qx, qy, normalize=True, color=\"white\")\n",
    "plt.savefig(\"./images/1_results_plan.png\")"
   ]
  },
  {
   "cell_type": "markdown",
   "id": "32987a17",
   "metadata": {},
   "source": [
    "If you want to save the figure use this. You can save png or pdf. You can use `plt.show()` to view it.\n",
    "\n",
    "We got the result which is same as that in the example. So it was a success."
   ]
  },
  {
   "cell_type": "markdown",
   "id": "fd6e6563",
   "metadata": {},
   "source": [
    "<a id=\"org4791276\"></a>\n",
    "\n",
    "## Zone budget"
   ]
  },
  {
   "cell_type": "markdown",
   "id": "407cd457",
   "metadata": {},
   "source": [
    "We hadn't imported numpy so let's do that."
   ]
  },
  {
   "cell_type": "code",
   "execution_count": 11,
   "id": "614db95d",
   "metadata": {},
   "outputs": [],
   "source": [
    "import numpy as np"
   ]
  },
  {
   "cell_type": "markdown",
   "id": "9bacdea5",
   "metadata": {},
   "source": [
    "We'll make a array with same shape as grid and put some arbitrary cells as different zones. We'll define 3 zones (1, 2 & 3) to cover the whole domain, since we're only using this to verify zonebudget work it's pretty random."
   ]
  },
  {
   "cell_type": "code",
   "execution_count": 12,
   "id": "7d8ac723",
   "metadata": {},
   "outputs": [],
   "source": [
    "zones = np.ones((10, 10), dtype=int)\n",
    "zones[(1, 1)] = 2\n",
    "zones[(2, 2)] = 2\n",
    "zones[(7, 7)] = 3\n",
    "zones[(8, 8)] = 3"
   ]
  },
  {
   "cell_type": "markdown",
   "id": "a461c2ce",
   "metadata": {},
   "source": [
    "Make a zonebudget model."
   ]
  },
  {
   "cell_type": "code",
   "execution_count": 13,
   "id": "088f3740",
   "metadata": {},
   "outputs": [],
   "source": [
    "bm = gwf.output.zonebudget(zones)\n",
    "bm.change_model_name(name)\n",
    "bm.change_model_ws(ws)"
   ]
  },
  {
   "cell_type": "markdown",
   "id": "5552dcc8",
   "metadata": {},
   "source": [
    "Write input files and run it."
   ]
  },
  {
   "cell_type": "code",
   "execution_count": 14,
   "id": "9c3ff91c",
   "metadata": {},
   "outputs": [
    {
     "name": "stdout",
     "output_type": "stream",
     "text": [
      "FloPy is using the following executable to run the model: /usr/local/bin/modflow-zbud6\n",
      "                              ZONEBUDGET Version 6\n",
      "                             U.S. GEOLOGICAL SURVEY\n",
      "                            VERSION 6.2.2 07/30/2021\n",
      "....\n",
      "\n",
      "Normal Termination\n"
     ]
    },
    {
     "data": {
      "text/plain": [
       "(True, [])"
      ]
     },
     "execution_count": 14,
     "metadata": {},
     "output_type": "execute_result"
    }
   ],
   "source": [
    "bm.write_input()                # see NOTE\n",
    "bm.run_model(exe_name='modflow-zbud6')"
   ]
  },
  {
   "cell_type": "markdown",
   "id": "795658d9",
   "metadata": {},
   "source": [
    "**NOTE**: The `bm.write_input()` has a bug and doesn't write the grb file and it'll end up being an error. [I brought it to the attention of the developers and they've fixed it](https://github.com/modflowpy/flopy/issues/1395). But it's not yet available to the pip version 3.3.5. If the next version isn't yet released when you're trying out, then you can install the git's latest version with `pip install --upgrade git+https://github.com/modflowpy/flopy.git` in your terminal.\n",
    "\n",
    "Now we can get the zonebudget for the model."
   ]
  },
  {
   "cell_type": "code",
   "execution_count": 15,
   "id": "11a56780",
   "metadata": {},
   "outputs": [
    {
     "data": {
      "text/plain": [
       "rec.array([(1., 0, 0, 'DATA_SPDIS_IN', 0.        , 0.        , 0.        ),\n",
       "           (1., 0, 0, 'CHD_IN', 0.33205402, 0.        , 0.        ),\n",
       "           (1., 0, 0, 'DATA_SPDIS_OUT', 0.        , 0.        , 0.        ),\n",
       "           (1., 0, 0, 'CHD_OUT', 0.33204178, 0.        , 0.        ),\n",
       "           (1., 0, 0, 'FROM_ZONE_0', 0.        , 0.        , 0.        ),\n",
       "           (1., 0, 0, 'FROM_ZONE_1', 0.        , 0.214903  , 0.21490513),\n",
       "           (1., 0, 0, 'FROM_ZONE_2', 0.21488982, 0.        , 0.        ),\n",
       "           (1., 0, 0, 'FROM_ZONE_3', 0.21490489, 0.        , 0.        ),\n",
       "           (1., 0, 0, 'TO_ZONE_0', 0.        , 0.        , 0.        ),\n",
       "           (1., 0, 0, 'TO_ZONE_1', 0.        , 0.21488982, 0.21490489),\n",
       "           (1., 0, 0, 'TO_ZONE_2', 0.214903  , 0.        , 0.        ),\n",
       "           (1., 0, 0, 'TO_ZONE_3', 0.21490513, 0.        , 0.        )],\n",
       "          dtype=[('totim', '<f8'), ('time_step', '<i8'), ('stress_period', '<i8'), ('name', 'O'), ('ZONE_1', '<f8'), ('ZONE_2', '<f8'), ('ZONE_3', '<f8')])"
      ]
     },
     "execution_count": 15,
     "metadata": {},
     "output_type": "execute_result"
    }
   ],
   "source": [
    "bm.get_budget()"
   ]
  },
  {
   "cell_type": "markdown",
   "id": "054788e5",
   "metadata": {},
   "source": [
    "<a id=\"org789ee7c\"></a>\n",
    "\n",
    "# Export to vtk format\n",
    "\n",
    "We can also export the heads data we obtained from the simulation and then visualize it using external tools like Paraview."
   ]
  },
  {
   "cell_type": "code",
   "execution_count": 16,
   "id": "9d428ef6",
   "metadata": {},
   "outputs": [
    {
     "name": "stderr",
     "output_type": "stream",
     "text": [
      "/home/gaurav/.local/lib/python3.10/site-packages/flopy/export/vtk.py:1844: UserWarning: export_heads is deprecated, use Vtk.add_heads()\n",
      "  warnings.warn(\"export_heads is deprecated, use Vtk.add_heads()\")\n",
      "/home/gaurav/.local/lib/python3.10/site-packages/flopy/export/vtk.py:1847: UserWarning: nanval is deprecated, setting to np.nan\n",
      "  warnings.warn(\"nanval is deprecated, setting to np.nan\")\n"
     ]
    }
   ],
   "source": [
    "import os\n",
    "from flopy.export import vtk\n",
    "vtk.export_heads(sim.get_model(), os.path.join(ws, head_file), ws, smooth=False, kstpkper=[(0,0)], point_scalars=False, nanval=-1e30)"
   ]
  },
  {
   "cell_type": "markdown",
   "id": "f83e9b70",
   "metadata": {},
   "source": [
    "After running the code we get a `.vtk` file in the same directory as the model files, after that we can load it in Paraview, as seen in figure below.\n",
    "\n",
    "![img](./images/paraview-sc-1.png \"Visualization of Heads in Paraview.\")"
   ]
  }
 ],
 "metadata": {
  "kernelspec": {
   "display_name": "Python 3",
   "language": "python",
   "name": "python3"
  },
  "language_info": {
   "codemirror_mode": {
    "name": "ipython",
    "version": 3
   },
   "file_extension": ".py",
   "mimetype": "text/x-python",
   "name": "python",
   "nbconvert_exporter": "python",
   "pygments_lexer": "ipython3",
   "version": "3.10.4"
  }
 },
 "nbformat": 4,
 "nbformat_minor": 5
}
