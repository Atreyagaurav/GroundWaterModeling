{
 "cells": [
  {
   "cell_type": "markdown",
   "id": "6b051d18",
   "metadata": {
    "collapsed": false
   },
   "source": [
    "# Tutorial 1: Introduction to flopy\n",
    "\n",
    "Link For code: https://github.com/modflowpy/flopy#modflow-6-quick-start"
   ]
  },
  {
   "cell_type": "markdown",
   "id": "7c344f3e",
   "metadata": {
    "collapsed": false
   },
   "source": [
    "## Load the modules\n",
    "flopy module is the main module to run flopy, and matplotlib is here in case you want to save the plots."
   ]
  },
  {
   "cell_type": "code",
   "execution_count": 1,
   "id": "c0d73d64",
   "metadata": {
    "collapsed": false
   },
   "outputs": [],
   "source": [
    "import flopy\n",
    "import matplotlib.pyplot as plt"
   ]
  },
  {
   "cell_type": "markdown",
   "id": "ae0696e3",
   "metadata": {
    "collapsed": false
   },
   "source": [
    "## Here we define the working directory and modflow path"
   ]
  },
  {
   "cell_type": "code",
   "execution_count": 2,
   "id": "71abf1f6",
   "metadata": {
    "collapsed": false
   },
   "outputs": [
    {
     "name": "stderr",
     "output_type": "stream",
     "text": [
      "/usr/lib/python3.10/site-packages/jupyter_client/jsonutil.py:76: DeprecationWarning: Interpreting naive datetime as local 2022-02-22 13:09:56. Please add timezone info to timestamps.\n",
      "  new_obj[k] = extract_dates(v)\n"
     ]
    }
   ],
   "source": [
    "ws = './tutorial-1'\n",
    "name = 'tutorial-1'\n",
    "sim = flopy.mf6.MFSimulation(sim_name=name, sim_ws=ws, exe_name='modflow-mf6')"
   ]
  },
  {
   "cell_type": "markdown",
   "id": "a92731bb",
   "metadata": {
    "collapsed": false
   },
   "source": [
    "## continue with defining things for simlulation"
   ]
  },
  {
   "cell_type": "code",
   "execution_count": 3,
   "id": "00c9d0f2",
   "metadata": {
    "collapsed": false
   },
   "outputs": [
    {
     "name": "stderr",
     "output_type": "stream",
     "text": [
      "/usr/lib/python3.10/site-packages/jupyter_client/jsonutil.py:76: DeprecationWarning: Interpreting naive datetime as local 2022-02-22 13:09:57. Please add timezone info to timestamps.\n",
      "  new_obj[k] = extract_dates(v)\n"
     ]
    }
   ],
   "source": [
    "tdis = flopy.mf6.ModflowTdis(sim)\n",
    "ims = flopy.mf6.ModflowIms(sim)\n",
    "gwf = flopy.mf6.ModflowGwf(sim, modelname=name, save_flows=True)"
   ]
  },
  {
   "cell_type": "markdown",
   "id": "72281cf6",
   "metadata": {
    "collapsed": false
   },
   "source": [
    "## Here we define the number of row and columns\n",
    "As well as the values for heads in some grid locations."
   ]
  },
  {
   "cell_type": "code",
   "execution_count": 4,
   "id": "2c1e023c",
   "metadata": {
    "collapsed": false
   },
   "outputs": [
    {
     "name": "stderr",
     "output_type": "stream",
     "text": [
      "/usr/lib/python3.10/site-packages/jupyter_client/jsonutil.py:76: DeprecationWarning: Interpreting naive datetime as local 2022-02-22 13:09:57. Please add timezone info to timestamps.\n",
      "  new_obj[k] = extract_dates(v)\n"
     ]
    }
   ],
   "source": [
    "dis = flopy.mf6.ModflowGwfdis(gwf, nrow=10, ncol=10)\n",
    "ic = flopy.mf6.ModflowGwfic(gwf)\n",
    "npf = flopy.mf6.ModflowGwfnpf(gwf, save_specific_discharge=True)\n",
    "chd = flopy.mf6.ModflowGwfchd(gwf, stress_period_data=[[(0, 0, 0), 1.],\n",
    "                                                       [(0, 9, 9), 0.]])"
   ]
  },
  {
   "cell_type": "markdown",
   "id": "d46f01b9",
   "metadata": {
    "collapsed": false
   },
   "source": [
    "## Here we decide on what to save and where"
   ]
  },
  {
   "cell_type": "code",
   "execution_count": 5,
   "id": "beafd755",
   "metadata": {
    "collapsed": false
   },
   "outputs": [
    {
     "name": "stderr",
     "output_type": "stream",
     "text": [
      "/usr/lib/python3.10/site-packages/jupyter_client/jsonutil.py:76: DeprecationWarning: Interpreting naive datetime as local 2022-02-22 13:09:58. Please add timezone info to timestamps.\n",
      "  new_obj[k] = extract_dates(v)\n"
     ]
    }
   ],
   "source": [
    "oc = flopy.mf6.ModflowGwfoc(gwf,\n",
    "                            budget_filerecord=f'{name}.bud',\n",
    "                            head_filerecord=f'{name}.hds',\n",
    "                            saverecord=[('HEAD', 'ALL'), ('BUDGET', 'ALL')])"
   ]
  },
  {
   "cell_type": "markdown",
   "id": "0506ae47",
   "metadata": {
    "collapsed": false
   },
   "source": [
    "## Run the simulation"
   ]
  },
  {
   "cell_type": "code",
   "execution_count": 6,
   "id": "1e47ec11",
   "metadata": {
    "collapsed": false
   },
   "outputs": [
    {
     "name": "stdout",
     "output_type": "stream",
     "text": [
      "writing simulation...\n",
      "  writing simulation name file...\n",
      "  writing simulation tdis package...\n",
      "  writing ims package ims_-1...\n",
      "  writing model tutorial-1...\n",
      "    writing model name file...\n",
      "    writing package dis...\n",
      "    writing package ic...\n",
      "    writing package npf...\n",
      "    writing package chd_0...\n",
      "INFORMATION: maxbound in ('gwf6', 'chd', 'dimensions') changed to 2 based on size of stress_period_data\n",
      "    writing package oc...\n",
      "FloPy is using the following executable to run the model: /usr/local/bin/modflow-mf6\n",
      "                                   MODFLOW 6\n",
      "                U.S. GEOLOGICAL SURVEY MODULAR HYDROLOGIC MODEL\n",
      "                            VERSION 6.2.2 07/30/2021\n",
      "\n",
      "  MODFLOW 6 compiled Feb 22 2022 12:32:23 with GFORTRAN compiler (ver. 11.2.0)\n",
      "\n",
      "This software has been approved for release by the U.S. Geological \n",
      "Survey (USGS). Although the software has been subjected to rigorous \n",
      "review, the USGS reserves the right to update the software as needed \n",
      "pursuant to further analysis and review. No warranty, expressed or \n",
      "implied, is made by the USGS or the U.S. Government as to the \n",
      "functionality of the software and related material nor shall the \n",
      "fact of release constitute any such warranty. Furthermore, the \n",
      "software is released on condition that neither the USGS nor the U.S. \n",
      "Government shall be held liable for any damages resulting from its \n",
      "authorized or unauthorized use. Also refer to the USGS Water \n",
      "Resources Software User Rights Notice for complete use, copyright, \n",
      "and distribution information.\n",
      "\n",
      "\n",
      " Run start date and time (yyyy/mm/dd hh:mm:ss): 2022/02/22 13:09:58\n",
      "\n",
      " Writing simulation list file: mfsim.lst\n",
      " Using Simulation name file: mfsim.nam\n",
      "\n",
      "    Solving:  Stress period:     1    Time step:     1\n",
      "\n",
      " Run end date and time (yyyy/mm/dd hh:mm:ss): 2022/02/22 13:09:58\n",
      " Elapsed run time:  0.006 Seconds\n",
      "\n",
      " Normal termination of simulation.\n"
     ]
    },
    {
     "name": "stderr",
     "output_type": "stream",
     "text": [
      "/usr/lib/python3.10/site-packages/jupyter_client/jsonutil.py:76: DeprecationWarning: Interpreting naive datetime as local 2022-02-22 13:09:58. Please add timezone info to timestamps.\n",
      "  new_obj[k] = extract_dates(v)\n"
     ]
    },
    {
     "data": {
      "text/plain": [
       "(True, [])"
      ]
     },
     "execution_count": 6,
     "metadata": {},
     "output_type": "execute_result"
    }
   ],
   "source": [
    "sim.write_simulation()\n",
    "sim.run_simulation()"
   ]
  },
  {
   "cell_type": "markdown",
   "id": "8176af97",
   "metadata": {
    "collapsed": false
   },
   "source": [
    "## Now to analyze we extract the head and budget data"
   ]
  },
  {
   "cell_type": "code",
   "execution_count": 7,
   "id": "558ea5cc",
   "metadata": {
    "collapsed": false
   },
   "outputs": [
    {
     "name": "stderr",
     "output_type": "stream",
     "text": [
      "/usr/lib/python3.10/site-packages/jupyter_client/jsonutil.py:76: DeprecationWarning: Interpreting naive datetime as local 2022-02-22 13:09:59. Please add timezone info to timestamps.\n",
      "  new_obj[k] = extract_dates(v)\n"
     ]
    }
   ],
   "source": [
    "head = gwf.output.head().get_data()\n",
    "bud = gwf.output.budget()\n",
    "\n",
    "spdis = bud.get_data(text='DATA-SPDIS')[0]\n",
    "qx, qy, qz = flopy.utils.postprocessing.get_specific_discharge(spdis, gwf)"
   ]
  },
  {
   "cell_type": "markdown",
   "id": "37ac1608",
   "metadata": {
    "collapsed": false
   },
   "source": [
    "## Plot the output"
   ]
  },
  {
   "cell_type": "code",
   "execution_count": 8,
   "id": "f4255de3",
   "metadata": {
    "collapsed": false
   },
   "outputs": [
    {
     "name": "stderr",
     "output_type": "stream",
     "text": [
      "/usr/lib/python3.10/site-packages/jupyter_client/jsonutil.py:76: DeprecationWarning: Interpreting naive datetime as local 2022-02-22 13:09:59. Please add timezone info to timestamps.\n",
      "  new_obj[k] = extract_dates(v)\n"
     ]
    },
    {
     "data": {
      "text/plain": [
       "<matplotlib.quiver.Quiver at 0x7f5632a93250>"
      ]
     },
     "execution_count": 8,
     "metadata": {},
     "output_type": "execute_result"
    },
    {
     "data": {
      "image/png": "[encoded data removed]",
      "text/plain": [
       "<Figure size 432x288 with 1 Axes>"
      ]
     },
     "metadata": {
      "needs_background": "light"
     },
     "output_type": "display_data"
    }
   ],
   "source": [
    "pmv = flopy.plot.PlotMapView(gwf)\n",
    "pmv.plot_array(head)\n",
    "pmv.plot_grid(colors='white')\n",
    "pmv.contour_array(head, levels=[.2, .4, .6, .8], linewidths=3.)\n",
    "pmv.plot_vector(qx, qy, normalize=True, color=\"white\")"
   ]
  },
  {
   "cell_type": "code",
   "execution_count": null,
   "id": "65026301",
   "metadata": {
    "collapsed": false
   },
   "outputs": [],
   "source": [
    "# plt.savefig(\"./images/tutorial-1.png\")"
   ]
  }
 ],
 "metadata": {
  "kernelspec": {
   "argv": [
    "/usr/bin/python3",
    "-m",
    "ipykernel_launcher",
    "-f",
    "{connection_file}"
   ],
   "display_name": "Python 3 (ipykernel)",
   "env": null,
   "interrupt_mode": "signal",
   "language": "python",
   "metadata": {
    "debugger": true
   },
   "name": "python3"
  },
  "name": "Tutorial-1-introduction.ipynb"
 },
 "nbformat": 4,
 "nbformat_minor": 5
}
